{
 "cells": [
  {
   "cell_type": "code",
   "execution_count": 62,
   "metadata": {
    "collapsed": true
   },
   "outputs": [],
   "source": [
    "import pandas as pd\n",
    "import langdetect as ld\n",
    "from pandas.io.excel import ExcelWriter"
   ]
  },
  {
   "cell_type": "code",
   "execution_count": 74,
   "outputs": [
    {
     "data": {
      "text/plain": "       Unnamed: 0                                             review  star  \\\n0               0   Ruum is charming and great for: Task tracking...     9   \n1               1   For problem tracking and project management, ...     8   \n2               2   This is a great end to end management tool, s...     9   \n3               3   it's very easy to use MyCollab as a tool and ...     9   \n4               4   I love that I'm able to get together and work...     9   \n...           ...                                                ...   ...   \n36343       10288   I'm pretty happy with this for my freelance w...     9   \n36344       10289   This application is very easy ti use and has ...     9   \n36345       10290                                                NaN     9   \n36346       10291   iPlan is a niche program management tool that...     7   \n36347       10292   Template is set up in Excel for instant refre...     7   \n\n                              label  \n0          Review source: G2 invite  \n1          Review source: G2 invite  \n2          Review source: G2 invite  \n3          Review source: G2 invite  \n4          Review source: G2 invite  \n...                             ...  \n36343        Review source: Organic  \n36344        Review source: Organic  \n36345      Review source: G2 invite  \n36346      Review source: G2 invite  \n36347  Review source: Seller invite  \n\n[36348 rows x 4 columns]",
      "text/html": "<div>\n<style scoped>\n    .dataframe tbody tr th:only-of-type {\n        vertical-align: middle;\n    }\n\n    .dataframe tbody tr th {\n        vertical-align: top;\n    }\n\n    .dataframe thead th {\n        text-align: right;\n    }\n</style>\n<table border=\"1\" class=\"dataframe\">\n  <thead>\n    <tr style=\"text-align: right;\">\n      <th></th>\n      <th>Unnamed: 0</th>\n      <th>review</th>\n      <th>star</th>\n      <th>label</th>\n    </tr>\n  </thead>\n  <tbody>\n    <tr>\n      <th>0</th>\n      <td>0</td>\n      <td>Ruum is charming and great for: Task tracking...</td>\n      <td>9</td>\n      <td>Review source: G2 invite</td>\n    </tr>\n    <tr>\n      <th>1</th>\n      <td>1</td>\n      <td>For problem tracking and project management, ...</td>\n      <td>8</td>\n      <td>Review source: G2 invite</td>\n    </tr>\n    <tr>\n      <th>2</th>\n      <td>2</td>\n      <td>This is a great end to end management tool, s...</td>\n      <td>9</td>\n      <td>Review source: G2 invite</td>\n    </tr>\n    <tr>\n      <th>3</th>\n      <td>3</td>\n      <td>it's very easy to use MyCollab as a tool and ...</td>\n      <td>9</td>\n      <td>Review source: G2 invite</td>\n    </tr>\n    <tr>\n      <th>4</th>\n      <td>4</td>\n      <td>I love that I'm able to get together and work...</td>\n      <td>9</td>\n      <td>Review source: G2 invite</td>\n    </tr>\n    <tr>\n      <th>...</th>\n      <td>...</td>\n      <td>...</td>\n      <td>...</td>\n      <td>...</td>\n    </tr>\n    <tr>\n      <th>36343</th>\n      <td>10288</td>\n      <td>I'm pretty happy with this for my freelance w...</td>\n      <td>9</td>\n      <td>Review source: Organic</td>\n    </tr>\n    <tr>\n      <th>36344</th>\n      <td>10289</td>\n      <td>This application is very easy ti use and has ...</td>\n      <td>9</td>\n      <td>Review source: Organic</td>\n    </tr>\n    <tr>\n      <th>36345</th>\n      <td>10290</td>\n      <td>NaN</td>\n      <td>9</td>\n      <td>Review source: G2 invite</td>\n    </tr>\n    <tr>\n      <th>36346</th>\n      <td>10291</td>\n      <td>iPlan is a niche program management tool that...</td>\n      <td>7</td>\n      <td>Review source: G2 invite</td>\n    </tr>\n    <tr>\n      <th>36347</th>\n      <td>10292</td>\n      <td>Template is set up in Excel for instant refre...</td>\n      <td>7</td>\n      <td>Review source: Seller invite</td>\n    </tr>\n  </tbody>\n</table>\n<p>36348 rows × 4 columns</p>\n</div>"
     },
     "execution_count": 74,
     "metadata": {},
     "output_type": "execute_result"
    }
   ],
   "source": [
    "review_data1 = pd.read_csv('review_data_part_1.csv')\n",
    "review_data2 = pd.read_csv('review_data_part_2.csv')\n",
    "review_data3 = pd.read_csv('review_data_part_3.csv')\n",
    "review_data4 = pd.read_csv('review_data_part_4.csv')\n",
    "review_data5 = pd.read_csv('review_data_part_5.csv')\n",
    "review_data = pd.concat([review_data1, review_data2, review_data3, review_data4, review_data5], ignore_index=True)\n",
    "review_data"
   ],
   "metadata": {
    "collapsed": false,
    "pycharm": {
     "name": "#%%\n"
    }
   }
  },
  {
   "cell_type": "code",
   "execution_count": 75,
   "outputs": [
    {
     "data": {
      "text/plain": "                                                  review  star  \\\n0       Ruum is charming and great for: Task tracking...     9   \n1       For problem tracking and project management, ...     8   \n2       This is a great end to end management tool, s...     9   \n3       it's very easy to use MyCollab as a tool and ...     9   \n4       I love that I'm able to get together and work...     9   \n...                                                  ...   ...   \n36343   I'm pretty happy with this for my freelance w...     9   \n36344   This application is very easy ti use and has ...     9   \n36345                                                NaN     9   \n36346   iPlan is a niche program management tool that...     7   \n36347   Template is set up in Excel for instant refre...     7   \n\n                              label  \n0          Review source: G2 invite  \n1          Review source: G2 invite  \n2          Review source: G2 invite  \n3          Review source: G2 invite  \n4          Review source: G2 invite  \n...                             ...  \n36343        Review source: Organic  \n36344        Review source: Organic  \n36345      Review source: G2 invite  \n36346      Review source: G2 invite  \n36347  Review source: Seller invite  \n\n[36348 rows x 3 columns]",
      "text/html": "<div>\n<style scoped>\n    .dataframe tbody tr th:only-of-type {\n        vertical-align: middle;\n    }\n\n    .dataframe tbody tr th {\n        vertical-align: top;\n    }\n\n    .dataframe thead th {\n        text-align: right;\n    }\n</style>\n<table border=\"1\" class=\"dataframe\">\n  <thead>\n    <tr style=\"text-align: right;\">\n      <th></th>\n      <th>review</th>\n      <th>star</th>\n      <th>label</th>\n    </tr>\n  </thead>\n  <tbody>\n    <tr>\n      <th>0</th>\n      <td>Ruum is charming and great for: Task tracking...</td>\n      <td>9</td>\n      <td>Review source: G2 invite</td>\n    </tr>\n    <tr>\n      <th>1</th>\n      <td>For problem tracking and project management, ...</td>\n      <td>8</td>\n      <td>Review source: G2 invite</td>\n    </tr>\n    <tr>\n      <th>2</th>\n      <td>This is a great end to end management tool, s...</td>\n      <td>9</td>\n      <td>Review source: G2 invite</td>\n    </tr>\n    <tr>\n      <th>3</th>\n      <td>it's very easy to use MyCollab as a tool and ...</td>\n      <td>9</td>\n      <td>Review source: G2 invite</td>\n    </tr>\n    <tr>\n      <th>4</th>\n      <td>I love that I'm able to get together and work...</td>\n      <td>9</td>\n      <td>Review source: G2 invite</td>\n    </tr>\n    <tr>\n      <th>...</th>\n      <td>...</td>\n      <td>...</td>\n      <td>...</td>\n    </tr>\n    <tr>\n      <th>36343</th>\n      <td>I'm pretty happy with this for my freelance w...</td>\n      <td>9</td>\n      <td>Review source: Organic</td>\n    </tr>\n    <tr>\n      <th>36344</th>\n      <td>This application is very easy ti use and has ...</td>\n      <td>9</td>\n      <td>Review source: Organic</td>\n    </tr>\n    <tr>\n      <th>36345</th>\n      <td>NaN</td>\n      <td>9</td>\n      <td>Review source: G2 invite</td>\n    </tr>\n    <tr>\n      <th>36346</th>\n      <td>iPlan is a niche program management tool that...</td>\n      <td>7</td>\n      <td>Review source: G2 invite</td>\n    </tr>\n    <tr>\n      <th>36347</th>\n      <td>Template is set up in Excel for instant refre...</td>\n      <td>7</td>\n      <td>Review source: Seller invite</td>\n    </tr>\n  </tbody>\n</table>\n<p>36348 rows × 3 columns</p>\n</div>"
     },
     "execution_count": 75,
     "metadata": {},
     "output_type": "execute_result"
    }
   ],
   "source": [
    "review_data = review_data.drop(columns=review_data.columns[0], axis=1)\n",
    "review_data"
   ],
   "metadata": {
    "collapsed": false,
    "pycharm": {
     "name": "#%%\n"
    }
   }
  },
  {
   "cell_type": "code",
   "execution_count": 76,
   "outputs": [
    {
     "data": {
      "text/plain": "                                                  review  star  \\\n0       Ruum is charming and great for: Task tracking...     9   \n1       For problem tracking and project management, ...     8   \n2       This is a great end to end management tool, s...     9   \n3       it's very easy to use MyCollab as a tool and ...     9   \n4       I love that I'm able to get together and work...     9   \n...                                                  ...   ...   \n36342   Easy to use.  Time tracking, invoicing and Da...     9   \n36343   I'm pretty happy with this for my freelance w...     9   \n36344   This application is very easy ti use and has ...     9   \n36346   iPlan is a niche program management tool that...     7   \n36347   Template is set up in Excel for instant refre...     7   \n\n                              label  \n0          Review source: G2 invite  \n1          Review source: G2 invite  \n2          Review source: G2 invite  \n3          Review source: G2 invite  \n4          Review source: G2 invite  \n...                             ...  \n36342  Review source: Seller invite  \n36343        Review source: Organic  \n36344        Review source: Organic  \n36346      Review source: G2 invite  \n36347  Review source: Seller invite  \n\n[36208 rows x 3 columns]",
      "text/html": "<div>\n<style scoped>\n    .dataframe tbody tr th:only-of-type {\n        vertical-align: middle;\n    }\n\n    .dataframe tbody tr th {\n        vertical-align: top;\n    }\n\n    .dataframe thead th {\n        text-align: right;\n    }\n</style>\n<table border=\"1\" class=\"dataframe\">\n  <thead>\n    <tr style=\"text-align: right;\">\n      <th></th>\n      <th>review</th>\n      <th>star</th>\n      <th>label</th>\n    </tr>\n  </thead>\n  <tbody>\n    <tr>\n      <th>0</th>\n      <td>Ruum is charming and great for: Task tracking...</td>\n      <td>9</td>\n      <td>Review source: G2 invite</td>\n    </tr>\n    <tr>\n      <th>1</th>\n      <td>For problem tracking and project management, ...</td>\n      <td>8</td>\n      <td>Review source: G2 invite</td>\n    </tr>\n    <tr>\n      <th>2</th>\n      <td>This is a great end to end management tool, s...</td>\n      <td>9</td>\n      <td>Review source: G2 invite</td>\n    </tr>\n    <tr>\n      <th>3</th>\n      <td>it's very easy to use MyCollab as a tool and ...</td>\n      <td>9</td>\n      <td>Review source: G2 invite</td>\n    </tr>\n    <tr>\n      <th>4</th>\n      <td>I love that I'm able to get together and work...</td>\n      <td>9</td>\n      <td>Review source: G2 invite</td>\n    </tr>\n    <tr>\n      <th>...</th>\n      <td>...</td>\n      <td>...</td>\n      <td>...</td>\n    </tr>\n    <tr>\n      <th>36342</th>\n      <td>Easy to use.  Time tracking, invoicing and Da...</td>\n      <td>9</td>\n      <td>Review source: Seller invite</td>\n    </tr>\n    <tr>\n      <th>36343</th>\n      <td>I'm pretty happy with this for my freelance w...</td>\n      <td>9</td>\n      <td>Review source: Organic</td>\n    </tr>\n    <tr>\n      <th>36344</th>\n      <td>This application is very easy ti use and has ...</td>\n      <td>9</td>\n      <td>Review source: Organic</td>\n    </tr>\n    <tr>\n      <th>36346</th>\n      <td>iPlan is a niche program management tool that...</td>\n      <td>7</td>\n      <td>Review source: G2 invite</td>\n    </tr>\n    <tr>\n      <th>36347</th>\n      <td>Template is set up in Excel for instant refre...</td>\n      <td>7</td>\n      <td>Review source: Seller invite</td>\n    </tr>\n  </tbody>\n</table>\n<p>36208 rows × 3 columns</p>\n</div>"
     },
     "execution_count": 76,
     "metadata": {},
     "output_type": "execute_result"
    }
   ],
   "source": [
    "review_data.dropna(inplace=True)  # Remove Nan reviews\n",
    "review_data"
   ],
   "metadata": {
    "collapsed": false,
    "pycharm": {
     "name": "#%%\n"
    }
   }
  },
  {
   "cell_type": "code",
   "execution_count": 77,
   "outputs": [
    {
     "data": {
      "text/plain": "                                                  review  star  \\\n0       Ruum is charming and great for: Task tracking...     9   \n1       For problem tracking and project management, ...     8   \n2       This is a great end to end management tool, s...     9   \n3       it's very easy to use MyCollab as a tool and ...     9   \n4       I love that I'm able to get together and work...     9   \n...                                                  ...   ...   \n36342   Easy to use.  Time tracking, invoicing and Da...     9   \n36343   I'm pretty happy with this for my freelance w...     9   \n36344   This application is very easy ti use and has ...     9   \n36346   iPlan is a niche program management tool that...     7   \n36347   Template is set up in Excel for instant refre...     7   \n\n                              label  \n0          Review source: G2 invite  \n1          Review source: G2 invite  \n2          Review source: G2 invite  \n3          Review source: G2 invite  \n4          Review source: G2 invite  \n...                             ...  \n36342  Review source: Seller invite  \n36343        Review source: Organic  \n36344        Review source: Organic  \n36346      Review source: G2 invite  \n36347  Review source: Seller invite  \n\n[35431 rows x 3 columns]",
      "text/html": "<div>\n<style scoped>\n    .dataframe tbody tr th:only-of-type {\n        vertical-align: middle;\n    }\n\n    .dataframe tbody tr th {\n        vertical-align: top;\n    }\n\n    .dataframe thead th {\n        text-align: right;\n    }\n</style>\n<table border=\"1\" class=\"dataframe\">\n  <thead>\n    <tr style=\"text-align: right;\">\n      <th></th>\n      <th>review</th>\n      <th>star</th>\n      <th>label</th>\n    </tr>\n  </thead>\n  <tbody>\n    <tr>\n      <th>0</th>\n      <td>Ruum is charming and great for: Task tracking...</td>\n      <td>9</td>\n      <td>Review source: G2 invite</td>\n    </tr>\n    <tr>\n      <th>1</th>\n      <td>For problem tracking and project management, ...</td>\n      <td>8</td>\n      <td>Review source: G2 invite</td>\n    </tr>\n    <tr>\n      <th>2</th>\n      <td>This is a great end to end management tool, s...</td>\n      <td>9</td>\n      <td>Review source: G2 invite</td>\n    </tr>\n    <tr>\n      <th>3</th>\n      <td>it's very easy to use MyCollab as a tool and ...</td>\n      <td>9</td>\n      <td>Review source: G2 invite</td>\n    </tr>\n    <tr>\n      <th>4</th>\n      <td>I love that I'm able to get together and work...</td>\n      <td>9</td>\n      <td>Review source: G2 invite</td>\n    </tr>\n    <tr>\n      <th>...</th>\n      <td>...</td>\n      <td>...</td>\n      <td>...</td>\n    </tr>\n    <tr>\n      <th>36342</th>\n      <td>Easy to use.  Time tracking, invoicing and Da...</td>\n      <td>9</td>\n      <td>Review source: Seller invite</td>\n    </tr>\n    <tr>\n      <th>36343</th>\n      <td>I'm pretty happy with this for my freelance w...</td>\n      <td>9</td>\n      <td>Review source: Organic</td>\n    </tr>\n    <tr>\n      <th>36344</th>\n      <td>This application is very easy ti use and has ...</td>\n      <td>9</td>\n      <td>Review source: Organic</td>\n    </tr>\n    <tr>\n      <th>36346</th>\n      <td>iPlan is a niche program management tool that...</td>\n      <td>7</td>\n      <td>Review source: G2 invite</td>\n    </tr>\n    <tr>\n      <th>36347</th>\n      <td>Template is set up in Excel for instant refre...</td>\n      <td>7</td>\n      <td>Review source: Seller invite</td>\n    </tr>\n  </tbody>\n</table>\n<p>35431 rows × 3 columns</p>\n</div>"
     },
     "execution_count": 77,
     "metadata": {},
     "output_type": "execute_result"
    }
   ],
   "source": [
    "def is_en(txt):\n",
    "    try:\n",
    "        return ld.detect(txt)=='en'\n",
    "    except:\n",
    "        return False\n",
    "review_data = review_data[review_data['review'].apply(is_en)]  # Remove non-english reviews\n",
    "review_data"
   ],
   "metadata": {
    "collapsed": false,
    "pycharm": {
     "name": "#%%\n"
    }
   }
  },
  {
   "cell_type": "code",
   "execution_count": 78,
   "outputs": [
    {
     "name": "stderr",
     "output_type": "stream",
     "text": [
      "/var/folders/82/sf8vjrrx6hqf0v9zb41bvrcr0000gn/T/ipykernel_67501/876760197.py:1: SettingWithCopyWarning: \n",
      "A value is trying to be set on a copy of a slice from a DataFrame.\n",
      "Try using .loc[row_indexer,col_indexer] = value instead\n",
      "\n",
      "See the caveats in the documentation: https://pandas.pydata.org/pandas-docs/stable/user_guide/indexing.html#returning-a-view-versus-a-copy\n",
      "  review_data['review'] = review_data['review'].str.encode('ascii', 'ignore').str.decode('ascii')  # Remove non-ascii characters\n"
     ]
    },
    {
     "data": {
      "text/plain": "                                                  review  star  \\\n0       Ruum is charming and great for: Task tracking...     9   \n1       For problem tracking and project management, ...     8   \n2       This is a great end to end management tool, s...     9   \n3       it's very easy to use MyCollab as a tool and ...     9   \n4       I love that I'm able to get together and work...     9   \n...                                                  ...   ...   \n36342   Easy to use.  Time tracking, invoicing and Da...     9   \n36343   I'm pretty happy with this for my freelance w...     9   \n36344   This application is very easy ti use and has ...     9   \n36346   iPlan is a niche program management tool that...     7   \n36347   Template is set up in Excel for instant refre...     7   \n\n                              label  \n0          Review source: G2 invite  \n1          Review source: G2 invite  \n2          Review source: G2 invite  \n3          Review source: G2 invite  \n4          Review source: G2 invite  \n...                             ...  \n36342  Review source: Seller invite  \n36343        Review source: Organic  \n36344        Review source: Organic  \n36346      Review source: G2 invite  \n36347  Review source: Seller invite  \n\n[35431 rows x 3 columns]",
      "text/html": "<div>\n<style scoped>\n    .dataframe tbody tr th:only-of-type {\n        vertical-align: middle;\n    }\n\n    .dataframe tbody tr th {\n        vertical-align: top;\n    }\n\n    .dataframe thead th {\n        text-align: right;\n    }\n</style>\n<table border=\"1\" class=\"dataframe\">\n  <thead>\n    <tr style=\"text-align: right;\">\n      <th></th>\n      <th>review</th>\n      <th>star</th>\n      <th>label</th>\n    </tr>\n  </thead>\n  <tbody>\n    <tr>\n      <th>0</th>\n      <td>Ruum is charming and great for: Task tracking...</td>\n      <td>9</td>\n      <td>Review source: G2 invite</td>\n    </tr>\n    <tr>\n      <th>1</th>\n      <td>For problem tracking and project management, ...</td>\n      <td>8</td>\n      <td>Review source: G2 invite</td>\n    </tr>\n    <tr>\n      <th>2</th>\n      <td>This is a great end to end management tool, s...</td>\n      <td>9</td>\n      <td>Review source: G2 invite</td>\n    </tr>\n    <tr>\n      <th>3</th>\n      <td>it's very easy to use MyCollab as a tool and ...</td>\n      <td>9</td>\n      <td>Review source: G2 invite</td>\n    </tr>\n    <tr>\n      <th>4</th>\n      <td>I love that I'm able to get together and work...</td>\n      <td>9</td>\n      <td>Review source: G2 invite</td>\n    </tr>\n    <tr>\n      <th>...</th>\n      <td>...</td>\n      <td>...</td>\n      <td>...</td>\n    </tr>\n    <tr>\n      <th>36342</th>\n      <td>Easy to use.  Time tracking, invoicing and Da...</td>\n      <td>9</td>\n      <td>Review source: Seller invite</td>\n    </tr>\n    <tr>\n      <th>36343</th>\n      <td>I'm pretty happy with this for my freelance w...</td>\n      <td>9</td>\n      <td>Review source: Organic</td>\n    </tr>\n    <tr>\n      <th>36344</th>\n      <td>This application is very easy ti use and has ...</td>\n      <td>9</td>\n      <td>Review source: Organic</td>\n    </tr>\n    <tr>\n      <th>36346</th>\n      <td>iPlan is a niche program management tool that...</td>\n      <td>7</td>\n      <td>Review source: G2 invite</td>\n    </tr>\n    <tr>\n      <th>36347</th>\n      <td>Template is set up in Excel for instant refre...</td>\n      <td>7</td>\n      <td>Review source: Seller invite</td>\n    </tr>\n  </tbody>\n</table>\n<p>35431 rows × 3 columns</p>\n</div>"
     },
     "execution_count": 78,
     "metadata": {},
     "output_type": "execute_result"
    }
   ],
   "source": [
    "review_data['review'] = review_data['review'].str.encode('ascii', 'ignore').str.decode('ascii')  # Remove non-ascii characters\n",
    "review_data"
   ],
   "metadata": {
    "collapsed": false,
    "pycharm": {
     "name": "#%%\n"
    }
   }
  },
  {
   "cell_type": "code",
   "execution_count": 79,
   "outputs": [
    {
     "name": "stderr",
     "output_type": "stream",
     "text": [
      "/var/folders/82/sf8vjrrx6hqf0v9zb41bvrcr0000gn/T/ipykernel_67501/7683671.py:1: SettingWithCopyWarning: \n",
      "A value is trying to be set on a copy of a slice from a DataFrame.\n",
      "Try using .loc[row_indexer,col_indexer] = value instead\n",
      "\n",
      "See the caveats in the documentation: https://pandas.pydata.org/pandas-docs/stable/user_guide/indexing.html#returning-a-view-versus-a-copy\n",
      "  review_data['review'] = review_data['review'].replace(to_replace=r'\\s+', value=' ', regex=True) # replaces all whitespace with just 1 space\n"
     ]
    },
    {
     "data": {
      "text/plain": "                                                  review  star  \\\n0       Ruum is charming and great for: Task tracking...     9   \n1       For problem tracking and project management, ...     8   \n2       This is a great end to end management tool, s...     9   \n3       it's very easy to use MyCollab as a tool and ...     9   \n4       I love that I'm able to get together and work...     9   \n...                                                  ...   ...   \n36342   Easy to use. Time tracking, invoicing and Das...     9   \n36343   I'm pretty happy with this for my freelance w...     9   \n36344   This application is very easy ti use and has ...     9   \n36346   iPlan is a niche program management tool that...     7   \n36347   Template is set up in Excel for instant refre...     7   \n\n                              label  \n0          Review source: G2 invite  \n1          Review source: G2 invite  \n2          Review source: G2 invite  \n3          Review source: G2 invite  \n4          Review source: G2 invite  \n...                             ...  \n36342  Review source: Seller invite  \n36343        Review source: Organic  \n36344        Review source: Organic  \n36346      Review source: G2 invite  \n36347  Review source: Seller invite  \n\n[35431 rows x 3 columns]",
      "text/html": "<div>\n<style scoped>\n    .dataframe tbody tr th:only-of-type {\n        vertical-align: middle;\n    }\n\n    .dataframe tbody tr th {\n        vertical-align: top;\n    }\n\n    .dataframe thead th {\n        text-align: right;\n    }\n</style>\n<table border=\"1\" class=\"dataframe\">\n  <thead>\n    <tr style=\"text-align: right;\">\n      <th></th>\n      <th>review</th>\n      <th>star</th>\n      <th>label</th>\n    </tr>\n  </thead>\n  <tbody>\n    <tr>\n      <th>0</th>\n      <td>Ruum is charming and great for: Task tracking...</td>\n      <td>9</td>\n      <td>Review source: G2 invite</td>\n    </tr>\n    <tr>\n      <th>1</th>\n      <td>For problem tracking and project management, ...</td>\n      <td>8</td>\n      <td>Review source: G2 invite</td>\n    </tr>\n    <tr>\n      <th>2</th>\n      <td>This is a great end to end management tool, s...</td>\n      <td>9</td>\n      <td>Review source: G2 invite</td>\n    </tr>\n    <tr>\n      <th>3</th>\n      <td>it's very easy to use MyCollab as a tool and ...</td>\n      <td>9</td>\n      <td>Review source: G2 invite</td>\n    </tr>\n    <tr>\n      <th>4</th>\n      <td>I love that I'm able to get together and work...</td>\n      <td>9</td>\n      <td>Review source: G2 invite</td>\n    </tr>\n    <tr>\n      <th>...</th>\n      <td>...</td>\n      <td>...</td>\n      <td>...</td>\n    </tr>\n    <tr>\n      <th>36342</th>\n      <td>Easy to use. Time tracking, invoicing and Das...</td>\n      <td>9</td>\n      <td>Review source: Seller invite</td>\n    </tr>\n    <tr>\n      <th>36343</th>\n      <td>I'm pretty happy with this for my freelance w...</td>\n      <td>9</td>\n      <td>Review source: Organic</td>\n    </tr>\n    <tr>\n      <th>36344</th>\n      <td>This application is very easy ti use and has ...</td>\n      <td>9</td>\n      <td>Review source: Organic</td>\n    </tr>\n    <tr>\n      <th>36346</th>\n      <td>iPlan is a niche program management tool that...</td>\n      <td>7</td>\n      <td>Review source: G2 invite</td>\n    </tr>\n    <tr>\n      <th>36347</th>\n      <td>Template is set up in Excel for instant refre...</td>\n      <td>7</td>\n      <td>Review source: Seller invite</td>\n    </tr>\n  </tbody>\n</table>\n<p>35431 rows × 3 columns</p>\n</div>"
     },
     "execution_count": 79,
     "metadata": {},
     "output_type": "execute_result"
    }
   ],
   "source": [
    "review_data['review'] = review_data['review'].replace(to_replace=r'\\s+', value=' ', regex=True) # replaces all whitespace with just 1 space\n",
    "review_data"
   ],
   "metadata": {
    "collapsed": false,
    "pycharm": {
     "name": "#%%\n"
    }
   }
  },
  {
   "cell_type": "code",
   "execution_count": 80,
   "outputs": [],
   "source": [
    "review_data.to_csv(\"review_data_cleaned.csv\")"
   ],
   "metadata": {
    "collapsed": false,
    "pycharm": {
     "name": "#%%\n"
    }
   }
  },
  {
   "cell_type": "code",
   "execution_count": 81,
   "outputs": [],
   "source": [
    "with ExcelWriter('review_data.xlsx') as ew:\n",
    "\treview_data.to_excel(ew, sheet_name=\"reviews\", index=False)"
   ],
   "metadata": {
    "collapsed": false,
    "pycharm": {
     "name": "#%%\n"
    }
   }
  },
  {
   "cell_type": "code",
   "execution_count": null,
   "outputs": [],
   "source": [],
   "metadata": {
    "collapsed": false,
    "pycharm": {
     "name": "#%%\n"
    }
   }
  }
 ],
 "metadata": {
  "kernelspec": {
   "display_name": "Python 3",
   "language": "python",
   "name": "python3"
  },
  "language_info": {
   "codemirror_mode": {
    "name": "ipython",
    "version": 2
   },
   "file_extension": ".py",
   "mimetype": "text/x-python",
   "name": "python",
   "nbconvert_exporter": "python",
   "pygments_lexer": "ipython2",
   "version": "2.7.6"
  }
 },
 "nbformat": 4,
 "nbformat_minor": 0
}